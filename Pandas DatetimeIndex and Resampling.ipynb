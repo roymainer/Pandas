{
 "cells": [
  {
   "cell_type": "markdown",
   "metadata": {},
   "source": [
    "## DatetimeIndex Example"
   ]
  },
  {
   "cell_type": "code",
   "execution_count": 1,
   "metadata": {},
   "outputs": [
    {
     "data": {
      "text/html": [
       "<div>\n",
       "<style scoped>\n",
       "    .dataframe tbody tr th:only-of-type {\n",
       "        vertical-align: middle;\n",
       "    }\n",
       "\n",
       "    .dataframe tbody tr th {\n",
       "        vertical-align: top;\n",
       "    }\n",
       "\n",
       "    .dataframe thead th {\n",
       "        text-align: right;\n",
       "    }\n",
       "</style>\n",
       "<table border=\"1\" class=\"dataframe\">\n",
       "  <thead>\n",
       "    <tr style=\"text-align: right;\">\n",
       "      <th></th>\n",
       "      <th>Date</th>\n",
       "      <th>Open</th>\n",
       "      <th>High</th>\n",
       "      <th>Low</th>\n",
       "      <th>Close</th>\n",
       "      <th>Adj Close</th>\n",
       "      <th>Volume</th>\n",
       "    </tr>\n",
       "  </thead>\n",
       "  <tbody>\n",
       "    <tr>\n",
       "      <th>0</th>\n",
       "      <td>2018-10-16</td>\n",
       "      <td>218.929993</td>\n",
       "      <td>222.990005</td>\n",
       "      <td>216.759995</td>\n",
       "      <td>222.149994</td>\n",
       "      <td>221.377563</td>\n",
       "      <td>29184000</td>\n",
       "    </tr>\n",
       "    <tr>\n",
       "      <th>1</th>\n",
       "      <td>2018-10-17</td>\n",
       "      <td>222.300003</td>\n",
       "      <td>222.639999</td>\n",
       "      <td>219.339996</td>\n",
       "      <td>221.190002</td>\n",
       "      <td>220.420914</td>\n",
       "      <td>22885400</td>\n",
       "    </tr>\n",
       "    <tr>\n",
       "      <th>2</th>\n",
       "      <td>2018-10-18</td>\n",
       "      <td>217.860001</td>\n",
       "      <td>219.740005</td>\n",
       "      <td>213.000000</td>\n",
       "      <td>216.020004</td>\n",
       "      <td>215.268890</td>\n",
       "      <td>32581300</td>\n",
       "    </tr>\n",
       "    <tr>\n",
       "      <th>3</th>\n",
       "      <td>2018-10-19</td>\n",
       "      <td>218.059998</td>\n",
       "      <td>221.259995</td>\n",
       "      <td>217.429993</td>\n",
       "      <td>219.309998</td>\n",
       "      <td>218.547455</td>\n",
       "      <td>33078700</td>\n",
       "    </tr>\n",
       "    <tr>\n",
       "      <th>4</th>\n",
       "      <td>2018-10-22</td>\n",
       "      <td>219.789993</td>\n",
       "      <td>223.360001</td>\n",
       "      <td>218.940002</td>\n",
       "      <td>220.649994</td>\n",
       "      <td>219.882782</td>\n",
       "      <td>28792100</td>\n",
       "    </tr>\n",
       "  </tbody>\n",
       "</table>\n",
       "</div>"
      ],
      "text/plain": [
       "         Date        Open        High         Low       Close   Adj Close  \\\n",
       "0  2018-10-16  218.929993  222.990005  216.759995  222.149994  221.377563   \n",
       "1  2018-10-17  222.300003  222.639999  219.339996  221.190002  220.420914   \n",
       "2  2018-10-18  217.860001  219.740005  213.000000  216.020004  215.268890   \n",
       "3  2018-10-19  218.059998  221.259995  217.429993  219.309998  218.547455   \n",
       "4  2018-10-22  219.789993  223.360001  218.940002  220.649994  219.882782   \n",
       "\n",
       "     Volume  \n",
       "0  29184000  \n",
       "1  22885400  \n",
       "2  32581300  \n",
       "3  33078700  \n",
       "4  28792100  "
      ]
     },
     "execution_count": 1,
     "metadata": {},
     "output_type": "execute_result"
    }
   ],
   "source": [
    "import pandas as pd\n",
    "\n",
    "df = pd.read_csv(r'c:\\users\\rmainer\\desktop\\AAPL.csv')\n",
    "df.head(5)"
   ]
  },
  {
   "cell_type": "code",
   "execution_count": 2,
   "metadata": {},
   "outputs": [
    {
     "data": {
      "text/plain": [
       "str"
      ]
     },
     "execution_count": 2,
     "metadata": {},
     "output_type": "execute_result"
    }
   ],
   "source": [
    "type(df.Date[0])  # the date column is a string which is hader to analyze"
   ]
  },
  {
   "cell_type": "code",
   "execution_count": 3,
   "metadata": {},
   "outputs": [
    {
     "data": {
      "text/plain": [
       "pandas._libs.tslibs.timestamps.Timestamp"
      ]
     },
     "execution_count": 3,
     "metadata": {},
     "output_type": "execute_result"
    }
   ],
   "source": [
    "df = pd.read_csv(r'c:\\users\\rmainer\\desktop\\AAPL.csv', parse_dates=['Date'])  # if we specify which column is a date\n",
    "type(df.Date[0])  # we'll get a date type"
   ]
  },
  {
   "cell_type": "code",
   "execution_count": 5,
   "metadata": {},
   "outputs": [
    {
     "data": {
      "text/html": [
       "<div>\n",
       "<style scoped>\n",
       "    .dataframe tbody tr th:only-of-type {\n",
       "        vertical-align: middle;\n",
       "    }\n",
       "\n",
       "    .dataframe tbody tr th {\n",
       "        vertical-align: top;\n",
       "    }\n",
       "\n",
       "    .dataframe thead th {\n",
       "        text-align: right;\n",
       "    }\n",
       "</style>\n",
       "<table border=\"1\" class=\"dataframe\">\n",
       "  <thead>\n",
       "    <tr style=\"text-align: right;\">\n",
       "      <th></th>\n",
       "      <th>Open</th>\n",
       "      <th>High</th>\n",
       "      <th>Low</th>\n",
       "      <th>Close</th>\n",
       "      <th>Adj Close</th>\n",
       "      <th>Volume</th>\n",
       "    </tr>\n",
       "    <tr>\n",
       "      <th>Date</th>\n",
       "      <th></th>\n",
       "      <th></th>\n",
       "      <th></th>\n",
       "      <th></th>\n",
       "      <th></th>\n",
       "      <th></th>\n",
       "    </tr>\n",
       "  </thead>\n",
       "  <tbody>\n",
       "    <tr>\n",
       "      <th>2018-10-16</th>\n",
       "      <td>218.929993</td>\n",
       "      <td>222.990005</td>\n",
       "      <td>216.759995</td>\n",
       "      <td>222.149994</td>\n",
       "      <td>221.377563</td>\n",
       "      <td>29184000</td>\n",
       "    </tr>\n",
       "    <tr>\n",
       "      <th>2018-10-17</th>\n",
       "      <td>222.300003</td>\n",
       "      <td>222.639999</td>\n",
       "      <td>219.339996</td>\n",
       "      <td>221.190002</td>\n",
       "      <td>220.420914</td>\n",
       "      <td>22885400</td>\n",
       "    </tr>\n",
       "    <tr>\n",
       "      <th>2018-10-18</th>\n",
       "      <td>217.860001</td>\n",
       "      <td>219.740005</td>\n",
       "      <td>213.000000</td>\n",
       "      <td>216.020004</td>\n",
       "      <td>215.268890</td>\n",
       "      <td>32581300</td>\n",
       "    </tr>\n",
       "    <tr>\n",
       "      <th>2018-10-19</th>\n",
       "      <td>218.059998</td>\n",
       "      <td>221.259995</td>\n",
       "      <td>217.429993</td>\n",
       "      <td>219.309998</td>\n",
       "      <td>218.547455</td>\n",
       "      <td>33078700</td>\n",
       "    </tr>\n",
       "    <tr>\n",
       "      <th>2018-10-22</th>\n",
       "      <td>219.789993</td>\n",
       "      <td>223.360001</td>\n",
       "      <td>218.940002</td>\n",
       "      <td>220.649994</td>\n",
       "      <td>219.882782</td>\n",
       "      <td>28792100</td>\n",
       "    </tr>\n",
       "    <tr>\n",
       "      <th>2018-10-23</th>\n",
       "      <td>215.830002</td>\n",
       "      <td>223.250000</td>\n",
       "      <td>214.699997</td>\n",
       "      <td>222.729996</td>\n",
       "      <td>221.955551</td>\n",
       "      <td>38767800</td>\n",
       "    </tr>\n",
       "    <tr>\n",
       "      <th>2018-10-24</th>\n",
       "      <td>222.600006</td>\n",
       "      <td>224.229996</td>\n",
       "      <td>214.539993</td>\n",
       "      <td>215.089996</td>\n",
       "      <td>214.342117</td>\n",
       "      <td>40925500</td>\n",
       "    </tr>\n",
       "    <tr>\n",
       "      <th>2018-10-25</th>\n",
       "      <td>217.710007</td>\n",
       "      <td>221.380005</td>\n",
       "      <td>216.750000</td>\n",
       "      <td>219.800003</td>\n",
       "      <td>219.035751</td>\n",
       "      <td>29855800</td>\n",
       "    </tr>\n",
       "    <tr>\n",
       "      <th>2018-10-26</th>\n",
       "      <td>215.899994</td>\n",
       "      <td>220.190002</td>\n",
       "      <td>212.669998</td>\n",
       "      <td>216.300003</td>\n",
       "      <td>215.547913</td>\n",
       "      <td>47258400</td>\n",
       "    </tr>\n",
       "    <tr>\n",
       "      <th>2018-10-29</th>\n",
       "      <td>219.190002</td>\n",
       "      <td>219.690002</td>\n",
       "      <td>206.089996</td>\n",
       "      <td>212.240005</td>\n",
       "      <td>211.502045</td>\n",
       "      <td>45935500</td>\n",
       "    </tr>\n",
       "    <tr>\n",
       "      <th>2018-10-30</th>\n",
       "      <td>211.149994</td>\n",
       "      <td>215.179993</td>\n",
       "      <td>209.270004</td>\n",
       "      <td>213.300003</td>\n",
       "      <td>212.558350</td>\n",
       "      <td>36660000</td>\n",
       "    </tr>\n",
       "    <tr>\n",
       "      <th>2018-10-31</th>\n",
       "      <td>216.880005</td>\n",
       "      <td>220.449997</td>\n",
       "      <td>216.619995</td>\n",
       "      <td>218.860001</td>\n",
       "      <td>218.099014</td>\n",
       "      <td>38358900</td>\n",
       "    </tr>\n",
       "    <tr>\n",
       "      <th>2018-11-01</th>\n",
       "      <td>219.050003</td>\n",
       "      <td>222.360001</td>\n",
       "      <td>216.809998</td>\n",
       "      <td>222.220001</td>\n",
       "      <td>221.447327</td>\n",
       "      <td>58323200</td>\n",
       "    </tr>\n",
       "    <tr>\n",
       "      <th>2018-11-02</th>\n",
       "      <td>209.550003</td>\n",
       "      <td>213.649994</td>\n",
       "      <td>205.429993</td>\n",
       "      <td>207.479996</td>\n",
       "      <td>206.758575</td>\n",
       "      <td>91328700</td>\n",
       "    </tr>\n",
       "    <tr>\n",
       "      <th>2018-11-05</th>\n",
       "      <td>204.300003</td>\n",
       "      <td>204.389999</td>\n",
       "      <td>198.169998</td>\n",
       "      <td>201.589996</td>\n",
       "      <td>200.889053</td>\n",
       "      <td>66163700</td>\n",
       "    </tr>\n",
       "    <tr>\n",
       "      <th>2018-11-06</th>\n",
       "      <td>201.919998</td>\n",
       "      <td>204.720001</td>\n",
       "      <td>201.690002</td>\n",
       "      <td>203.770004</td>\n",
       "      <td>203.061493</td>\n",
       "      <td>31882900</td>\n",
       "    </tr>\n",
       "    <tr>\n",
       "      <th>2018-11-07</th>\n",
       "      <td>205.970001</td>\n",
       "      <td>210.059998</td>\n",
       "      <td>204.130005</td>\n",
       "      <td>209.949997</td>\n",
       "      <td>209.219986</td>\n",
       "      <td>33424400</td>\n",
       "    </tr>\n",
       "    <tr>\n",
       "      <th>2018-11-08</th>\n",
       "      <td>209.979996</td>\n",
       "      <td>210.119995</td>\n",
       "      <td>206.750000</td>\n",
       "      <td>208.490005</td>\n",
       "      <td>208.490005</td>\n",
       "      <td>25362600</td>\n",
       "    </tr>\n",
       "    <tr>\n",
       "      <th>2018-11-09</th>\n",
       "      <td>205.550003</td>\n",
       "      <td>206.009995</td>\n",
       "      <td>202.250000</td>\n",
       "      <td>204.470001</td>\n",
       "      <td>204.470001</td>\n",
       "      <td>34365800</td>\n",
       "    </tr>\n",
       "    <tr>\n",
       "      <th>2018-11-12</th>\n",
       "      <td>199.000000</td>\n",
       "      <td>199.850006</td>\n",
       "      <td>193.789993</td>\n",
       "      <td>194.169998</td>\n",
       "      <td>194.169998</td>\n",
       "      <td>51135500</td>\n",
       "    </tr>\n",
       "    <tr>\n",
       "      <th>2018-11-13</th>\n",
       "      <td>191.630005</td>\n",
       "      <td>197.179993</td>\n",
       "      <td>191.449997</td>\n",
       "      <td>192.229996</td>\n",
       "      <td>192.229996</td>\n",
       "      <td>46882900</td>\n",
       "    </tr>\n",
       "    <tr>\n",
       "      <th>2018-11-14</th>\n",
       "      <td>193.899994</td>\n",
       "      <td>194.479996</td>\n",
       "      <td>185.929993</td>\n",
       "      <td>186.800003</td>\n",
       "      <td>186.800003</td>\n",
       "      <td>60653900</td>\n",
       "    </tr>\n",
       "    <tr>\n",
       "      <th>2018-11-15</th>\n",
       "      <td>188.389999</td>\n",
       "      <td>191.970001</td>\n",
       "      <td>186.899994</td>\n",
       "      <td>191.410004</td>\n",
       "      <td>191.410004</td>\n",
       "      <td>42470148</td>\n",
       "    </tr>\n",
       "  </tbody>\n",
       "</table>\n",
       "</div>"
      ],
      "text/plain": [
       "                  Open        High         Low       Close   Adj Close  \\\n",
       "Date                                                                     \n",
       "2018-10-16  218.929993  222.990005  216.759995  222.149994  221.377563   \n",
       "2018-10-17  222.300003  222.639999  219.339996  221.190002  220.420914   \n",
       "2018-10-18  217.860001  219.740005  213.000000  216.020004  215.268890   \n",
       "2018-10-19  218.059998  221.259995  217.429993  219.309998  218.547455   \n",
       "2018-10-22  219.789993  223.360001  218.940002  220.649994  219.882782   \n",
       "2018-10-23  215.830002  223.250000  214.699997  222.729996  221.955551   \n",
       "2018-10-24  222.600006  224.229996  214.539993  215.089996  214.342117   \n",
       "2018-10-25  217.710007  221.380005  216.750000  219.800003  219.035751   \n",
       "2018-10-26  215.899994  220.190002  212.669998  216.300003  215.547913   \n",
       "2018-10-29  219.190002  219.690002  206.089996  212.240005  211.502045   \n",
       "2018-10-30  211.149994  215.179993  209.270004  213.300003  212.558350   \n",
       "2018-10-31  216.880005  220.449997  216.619995  218.860001  218.099014   \n",
       "2018-11-01  219.050003  222.360001  216.809998  222.220001  221.447327   \n",
       "2018-11-02  209.550003  213.649994  205.429993  207.479996  206.758575   \n",
       "2018-11-05  204.300003  204.389999  198.169998  201.589996  200.889053   \n",
       "2018-11-06  201.919998  204.720001  201.690002  203.770004  203.061493   \n",
       "2018-11-07  205.970001  210.059998  204.130005  209.949997  209.219986   \n",
       "2018-11-08  209.979996  210.119995  206.750000  208.490005  208.490005   \n",
       "2018-11-09  205.550003  206.009995  202.250000  204.470001  204.470001   \n",
       "2018-11-12  199.000000  199.850006  193.789993  194.169998  194.169998   \n",
       "2018-11-13  191.630005  197.179993  191.449997  192.229996  192.229996   \n",
       "2018-11-14  193.899994  194.479996  185.929993  186.800003  186.800003   \n",
       "2018-11-15  188.389999  191.970001  186.899994  191.410004  191.410004   \n",
       "\n",
       "              Volume  \n",
       "Date                  \n",
       "2018-10-16  29184000  \n",
       "2018-10-17  22885400  \n",
       "2018-10-18  32581300  \n",
       "2018-10-19  33078700  \n",
       "2018-10-22  28792100  \n",
       "2018-10-23  38767800  \n",
       "2018-10-24  40925500  \n",
       "2018-10-25  29855800  \n",
       "2018-10-26  47258400  \n",
       "2018-10-29  45935500  \n",
       "2018-10-30  36660000  \n",
       "2018-10-31  38358900  \n",
       "2018-11-01  58323200  \n",
       "2018-11-02  91328700  \n",
       "2018-11-05  66163700  \n",
       "2018-11-06  31882900  \n",
       "2018-11-07  33424400  \n",
       "2018-11-08  25362600  \n",
       "2018-11-09  34365800  \n",
       "2018-11-12  51135500  \n",
       "2018-11-13  46882900  \n",
       "2018-11-14  60653900  \n",
       "2018-11-15  42470148  "
      ]
     },
     "execution_count": 5,
     "metadata": {},
     "output_type": "execute_result"
    }
   ],
   "source": [
    "df = pd.read_csv(r'c:\\users\\rmainer\\desktop\\AAPL.csv', parse_dates=['Date'], index_col=\"Date\")  # now we specify that the date is the index\n",
    "df"
   ]
  },
  {
   "cell_type": "code",
   "execution_count": 10,
   "metadata": {},
   "outputs": [
    {
     "data": {
      "text/plain": [
       "218.13666658333332"
      ]
     },
     "execution_count": 10,
     "metadata": {},
     "output_type": "execute_result"
    }
   ],
   "source": [
    "df[\"2018-10\"].Close.mean()  # now we can find the mean closing price of October"
   ]
  },
  {
   "cell_type": "code",
   "execution_count": 12,
   "metadata": {},
   "outputs": [
    {
     "data": {
      "text/plain": [
       "219.2488877777778"
      ]
     },
     "execution_count": 12,
     "metadata": {},
     "output_type": "execute_result"
    }
   ],
   "source": [
    "df[\"2018-10-16\":\"2018-10-26\"].Close.mean()  # or specific dates"
   ]
  },
  {
   "cell_type": "markdown",
   "metadata": {},
   "source": [
    "## Resampling"
   ]
  },
  {
   "cell_type": "code",
   "execution_count": 20,
   "metadata": {},
   "outputs": [
    {
     "data": {
      "text/plain": [
       "<matplotlib.axes._subplots.AxesSubplot at 0x262c7ed6fd0>"
      ]
     },
     "execution_count": 20,
     "metadata": {},
     "output_type": "execute_result"
    },
    {
     "data": {
      "image/png": "[encoded data removed]",
      "text/plain": [
       "<Figure size 432x288 with 1 Axes>"
      ]
     },
     "metadata": {
      "needs_background": "light"
     },
     "output_type": "display_data"
    }
   ],
   "source": [
    "df.Close.resample(\"M\").mean()  # resample the average monthly closing values"
   ]
  },
  {
   "cell_type": "code",
   "execution_count": 21,
   "metadata": {},
   "outputs": [
    {
     "data": {
      "text/plain": [
       "<matplotlib.axes._subplots.AxesSubplot at 0x262c5d47ef0>"
      ]
     },
     "execution_count": 21,
     "metadata": {},
     "output_type": "execute_result"
    },
    {
     "data": {
      "image/png": "[encoded data removed]",
      "text/plain": [
       "<Figure size 432x288 with 1 Axes>"
      ]
     },
     "metadata": {
      "needs_background": "light"
     },
     "output_type": "display_data"
    }
   ],
   "source": [
    "%matplotlib inline\n",
    "df.Close.resample(\"D\").mean().plot()"
   ]
  },
  {
   "cell_type": "code",
   "execution_count": 22,
   "metadata": {},
   "outputs": [
    {
     "data": {
      "text/plain": [
       "<matplotlib.axes._subplots.AxesSubplot at 0x262c7fe9550>"
      ]
     },
     "execution_count": 22,
     "metadata": {},
     "output_type": "execute_result"
    },
    {
     "data": {
      "image/png": "[encoded data removed]",
      "text/plain": [
       "<Figure size 432x288 with 1 Axes>"
      ]
     },
     "metadata": {
      "needs_background": "light"
     },
     "output_type": "display_data"
    }
   ],
   "source": [
    "df.Close.plot()"
   ]
  },
  {
   "cell_type": "code",
   "execution_count": null,
   "metadata": {},
   "outputs": [],
   "source": []
  },
  {
   "cell_type": "code",
   "execution_count": null,
   "metadata": {},
   "outputs": [],
   "source": []
  },
  {
   "cell_type": "code",
   "execution_count": null,
   "metadata": {},
   "outputs": [],
   "source": []
  }
 ],
 "metadata": {
  "kernelspec": {
   "display_name": "Python 3",
   "language": "python",
   "name": "python3"
  },
  "language_info": {
   "codemirror_mode": {
    "name": "ipython",
    "version": 3
   },
   "file_extension": ".py",
   "mimetype": "text/x-python",
   "name": "python",
   "nbconvert_exporter": "python",
   "pygments_lexer": "ipython3",
   "version": "3.6.7"
  }
 },
 "nbformat": 4,
 "nbformat_minor": 2
}
